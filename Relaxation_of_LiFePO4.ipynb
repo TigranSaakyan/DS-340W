{
  "cells": [
    {
      "cell_type": "markdown",
      "id": "556686fe",
      "metadata": {
        "id": "556686fe"
      },
      "source": [
        "# Introduction\n",
        "\n",
        "This notebook shows an example of relaxing the LiFePO4 crystal.\n",
        "\n",
        "If you are running this notebook from Google Colab, uncomment the next code box to install m3gnet first."
      ]
    },
    {
      "cell_type": "code",
      "execution_count": 20,
      "id": "5818a2b9",
      "metadata": {
        "id": "5818a2b9"
      },
      "outputs": [],
      "source": [
        "# !pip install m3gnet\n",
        "# !pip install ase\n",
        "# !pip install pymatgen"
      ]
    },
    {
      "cell_type": "code",
      "execution_count": 1,
      "id": "5e008446",
      "metadata": {
        "id": "5e008446"
      },
      "outputs": [],
      "source": [
        "import warnings\n",
        "\n",
        "import numpy as np\n",
        "from pymatgen.ext.matproj import MPRester\n",
        "from pymatgen.util.coord import pbc_diff\n",
        "\n",
        "from m3gnet.models import Relaxer\n",
        "\n",
        "for category in (UserWarning, DeprecationWarning):\n",
        "    warnings.filterwarnings(\"ignore\", category=category, module=\"tensorflow\")"
      ]
    },
    {
      "cell_type": "code",
      "execution_count": 9,
      "id": "0cc2e942",
      "metadata": {
        "colab": {
          "base_uri": "https://localhost:8080/",
          "height": 49,
          "referenced_widgets": [
            "18244221d6f2488b8308131444e0cbb3",
            "3850f3b6362e428cac6993846470caaa",
            "75788dc8cf924ef491b5c4cee548f352",
            "a6d3aed1339341c486b51ce6963b206a",
            "03be17cc0ac84f7da0a19756d8122aa8",
            "c69e4fa8f3ae45ecbdc64abf250c5107",
            "04a15d5553ec49b99bd83109683acaab",
            "c98b99dc7f6941b5830b919923043d8a",
            "4f6bec578032430abf0bb21151583d0c",
            "05038939530c4860a0ac4ad983139e8e",
            "92709f685490479ea125ba9e5e45c619"
          ]
        },
        "id": "0cc2e942",
        "outputId": "959afecc-b756-42ed-8749-f5f51f460931"
      },
      "outputs": [
        {
          "output_type": "display_data",
          "data": {
            "text/plain": [
              "Retrieving MaterialsDoc documents:   0%|          | 0/1 [00:00<?, ?it/s]"
            ],
            "application/vnd.jupyter.widget-view+json": {
              "version_major": 2,
              "version_minor": 0,
              "model_id": "18244221d6f2488b8308131444e0cbb3"
            }
          },
          "metadata": {}
        }
      ],
      "source": [
        "mpr = MPRester(\"4HmCPQXiVVZmUjfuKNJSgE0G6MPLfTAA\")\n",
        "lfp = mpr.get_structure_by_material_id(\"mp-19017\")  # This is LiFePO4.\n",
        "\n",
        "lfp_strained = lfp.copy()  # We create a copy.\n",
        "# Create a random strain between -5% and 5% for each direction\n",
        "strains = np.random.uniform(low=-0.05, high=0.05, size=3)\n",
        "lfp_strained.apply_strain(strains)\n",
        "# In addition to the lattice strains, we also perturb the atoms by a distance of 0.1 angstrom.\n",
        "lfp_strained.perturb(0.1)"
      ]
    },
    {
      "cell_type": "code",
      "execution_count": 10,
      "id": "f8897c0e",
      "metadata": {
        "colab": {
          "base_uri": "https://localhost:8080/"
        },
        "id": "f8897c0e",
        "outputId": "ea25959f-fc8a-4058-9316-1b7cbaadd332"
      },
      "outputs": [
        {
          "output_type": "stream",
          "name": "stderr",
          "text": [
            "WARNING:tensorflow:You are casting an input of type complex64 to an incompatible dtype float32.  This will discard the imaginary part and may not be what you intended.\n",
            "WARNING:tensorflow:You are casting an input of type complex64 to an incompatible dtype float32.  This will discard the imaginary part and may not be what you intended.\n",
            "WARNING:tensorflow:You are casting an input of type complex64 to an incompatible dtype float32.  This will discard the imaginary part and may not be what you intended.\n",
            "WARNING:tensorflow:You are casting an input of type complex64 to an incompatible dtype float32.  This will discard the imaginary part and may not be what you intended.\n",
            "WARNING:tensorflow:You are casting an input of type complex64 to an incompatible dtype float32.  This will discard the imaginary part and may not be what you intended.\n"
          ]
        },
        {
          "output_type": "stream",
          "name": "stdout",
          "text": [
            "CPU times: user 32.8 s, sys: 11.1 s, total: 43.9 s\n",
            "Wall time: 38 s\n"
          ]
        }
      ],
      "source": [
        "relaxer = Relaxer()\n",
        "relax_results: dict\n",
        "%time relax_results = relaxer.relax(lfp_strained)\n",
        "relaxed_struct = relax_results[\"final_structure\"]"
      ]
    },
    {
      "cell_type": "markdown",
      "id": "a9ede3fc",
      "metadata": {
        "id": "a9ede3fc"
      },
      "source": [
        "Note that the relaxation only took < 20s."
      ]
    },
    {
      "cell_type": "markdown",
      "id": "d1b355f7",
      "metadata": {
        "id": "d1b355f7"
      },
      "source": [
        "The relaxation using the M3GNet universal IAP has brought the lattice parameters much closer to the original DFT ones and the coordinates are also within $10^{-3}$ of the original fractional coordinates."
      ]
    },
    {
      "cell_type": "code",
      "execution_count": 11,
      "id": "2abb1e07",
      "metadata": {
        "colab": {
          "base_uri": "https://localhost:8080/"
        },
        "id": "2abb1e07",
        "outputId": "225a0f61-9bc9-402b-9709-e97e7cbd443d"
      },
      "outputs": [
        {
          "output_type": "stream",
          "name": "stdout",
          "text": [
            "Original lattice parameters are [10.236, 5.971, 4.655]\n",
            "Strained lattice parameters are [10.0, 5.846, 4.655]\n",
            "Relaxed lattice parameters are [10.465, 6.099, 4.749]\n"
          ]
        }
      ],
      "source": [
        "print(f\"Original lattice parameters are {[round(x, 3) for x in lfp.lattice.abc]}\")\n",
        "print(f\"Strained lattice parameters are {[round(x, 3) for x in lfp_strained.lattice.abc]}\")\n",
        "print(f\"Relaxed lattice parameters are {[round(x, 3) for x in relaxed_struct.lattice.abc]}\")"
      ]
    },
    {
      "cell_type": "code",
      "execution_count": 13,
      "id": "1320a18b",
      "metadata": {
        "colab": {
          "base_uri": "https://localhost:8080/"
        },
        "id": "1320a18b",
        "outputId": "88ad4124-8823-4a58-ccef-2ff59389d744"
      },
      "outputs": [
        {
          "output_type": "execute_result",
          "data": {
            "text/plain": [
              "array([[0.00412635, 0.9992362 , 0.98045385],\n",
              "       [0.49395464, 0.48857139, 0.49068059],\n",
              "       [0.49013589, 0.99846731, 0.4970481 ],\n",
              "       [0.99714627, 0.51386495, 0.01098918],\n",
              "       [0.77377559, 0.25510526, 0.54287878],\n",
              "       [0.71418896, 0.74244399, 0.01339701],\n",
              "       [0.28832944, 0.24323813, 0.9824459 ],\n",
              "       [0.21547506, 0.73390022, 0.47056927],\n",
              "       [0.09173845, 0.25987526, 0.43555921],\n",
              "       [0.41024948, 0.75672711, 0.93628696],\n",
              "       [0.60328166, 0.2522353 , 0.08804439],\n",
              "       [0.90765483, 0.76632459, 0.57584919],\n",
              "       [0.10143535, 0.25750812, 0.7332521 ],\n",
              "       [0.83568041, 0.53333401, 0.69906799],\n",
              "       [0.83410751, 0.96057379, 0.69367859],\n",
              "       [0.9118232 , 0.74352686, 0.2702596 ],\n",
              "       [0.0448614 , 0.75287   , 0.68871814],\n",
              "       [0.39582703, 0.74849239, 0.24348735],\n",
              "       [0.15677349, 0.0400748 , 0.29211687],\n",
              "       [0.66741191, 0.46189415, 0.19469103],\n",
              "       [0.33968782, 0.5552654 , 0.77316596],\n",
              "       [0.3258744 , 0.94632026, 0.7926703 ],\n",
              "       [0.9649583 , 0.25020514, 0.28206832],\n",
              "       [0.46233721, 0.26114892, 0.20201249],\n",
              "       [0.54097825, 0.75912718, 0.77343501],\n",
              "       [0.60247672, 0.25529666, 0.76538577],\n",
              "       [0.65733903, 0.03967307, 0.20519485],\n",
              "       [0.16174564, 0.46533487, 0.27223627]])"
            ]
          },
          "metadata": {},
          "execution_count": 13
        }
      ],
      "source": [
        "lfp_strained.frac_coords"
      ]
    },
    {
      "cell_type": "code",
      "execution_count": 14,
      "id": "15e61f60",
      "metadata": {
        "colab": {
          "base_uri": "https://localhost:8080/"
        },
        "id": "15e61f60",
        "outputId": "b49daeea-649d-4fed-ac11-1612416863be"
      },
      "outputs": [
        {
          "output_type": "stream",
          "name": "stdout",
          "text": [
            "mean diff in frac. coords. between strained and original LFP structure: 0.00817\n"
          ]
        }
      ],
      "source": [
        "strained_to_orig_frac_coords_mean_diff = abs(pbc_diff(lfp_strained.frac_coords, lfp.frac_coords)).mean()\n",
        "\n",
        "print(\n",
        "    \"mean diff in frac. coords. between strained and original \"\n",
        "    f\"LFP structure: {strained_to_orig_frac_coords_mean_diff:.3}\"\n",
        ")"
      ]
    },
    {
      "cell_type": "code",
      "execution_count": 15,
      "id": "96bd6e24",
      "metadata": {
        "colab": {
          "base_uri": "https://localhost:8080/"
        },
        "id": "96bd6e24",
        "outputId": "8f611c3e-da26-4a69-9112-fb002535acee"
      },
      "outputs": [
        {
          "output_type": "stream",
          "name": "stdout",
          "text": [
            "mean diff in frac. coords. between original and M3GNet-relaxed LFP structure: 0.00329\n"
          ]
        }
      ],
      "source": [
        "orig_to_m3gnet_frac_coords_mean_diff = abs(pbc_diff(lfp.frac_coords, relaxed_struct.frac_coords)).mean()\n",
        "\n",
        "print(\n",
        "    \"mean diff in frac. coords. between original and M3GNet-relaxed \"\n",
        "    f\"LFP structure: {orig_to_m3gnet_frac_coords_mean_diff:.3}\"\n",
        ")"
      ]
    },
    {
      "cell_type": "code",
      "execution_count": 16,
      "id": "f1e46851",
      "metadata": {
        "colab": {
          "base_uri": "https://localhost:8080/"
        },
        "id": "f1e46851",
        "outputId": "957d1533-da34-49a3-ea0e-84de3690615a"
      },
      "outputs": [
        {
          "output_type": "stream",
          "name": "stdout",
          "text": [
            "M3GNet reduces the mean difference in frac. coords. from the strained to the original structure by a factor of: 2.48\n"
          ]
        }
      ],
      "source": [
        "mean_pbc_diff_ratio = strained_to_orig_frac_coords_mean_diff / orig_to_m3gnet_frac_coords_mean_diff\n",
        "\n",
        "print(\n",
        "    f\"M3GNet reduces the mean difference in frac. coords. from the strained \"\n",
        "    f\"to the original structure by a factor of: {mean_pbc_diff_ratio:.3}\"\n",
        ")"
      ]
    },
    {
      "cell_type": "markdown",
      "id": "a064bd17",
      "metadata": {
        "id": "a064bd17"
      },
      "source": [
        "# Phonon Band Structure and DOS\n",
        "\n",
        "The M3GNet IAP can also be used to compute the lattice vibrations in a super cell."
      ]
    },
    {
      "cell_type": "code",
      "execution_count": 17,
      "id": "71339aa0",
      "metadata": {
        "colab": {
          "base_uri": "https://localhost:8080/",
          "height": 136,
          "referenced_widgets": [
            "ce99aa8bac974c069ba16fafd499a97f",
            "21bc981669b449ce8d2d2302b0422b17",
            "1e7dd8a880604743b2cbfbcb0629ee8d",
            "7a3c80a5b2e541b7b0ba4d5c5a45d291",
            "41f6dd1410814e61b2ad8c8bf2e27efb",
            "df864ad5c1234ea9bcaeef0cfe748ace",
            "de44f8d191c04f028c9205abc77396b3",
            "11128dc19aac424795715f85c4cf860c",
            "874cc4f4a25746259244380db6505c7b",
            "6169f68177be4f10b4cae173f7a3d1c3",
            "01aa72c7341b4481b10a42df3394dfa2"
          ]
        },
        "id": "71339aa0",
        "outputId": "38413a24-b574-4056-9593-01f007cd8b9c"
      },
      "outputs": [
        {
          "output_type": "display_data",
          "data": {
            "text/plain": [
              "Retrieving MaterialsDoc documents:   0%|          | 0/1 [00:00<?, ?it/s]"
            ],
            "application/vnd.jupyter.widget-view+json": {
              "version_major": 2,
              "version_minor": 0,
              "model_id": "ce99aa8bac974c069ba16fafd499a97f"
            }
          },
          "metadata": {}
        },
        {
          "output_type": "stream",
          "name": "stderr",
          "text": [
            "WARNING:tensorflow:You are casting an input of type complex64 to an incompatible dtype float32.  This will discard the imaginary part and may not be what you intended.\n",
            "WARNING:tensorflow:You are casting an input of type complex64 to an incompatible dtype float32.  This will discard the imaginary part and may not be what you intended.\n",
            "WARNING:tensorflow:You are casting an input of type complex64 to an incompatible dtype float32.  This will discard the imaginary part and may not be what you intended.\n"
          ]
        },
        {
          "output_type": "stream",
          "name": "stdout",
          "text": [
            "WARNING, 1 imaginary frequencies at q = ( 0.00,  0.00,  0.00) ; (omega_q = 6.167e-09*i)\n",
            "WARNING, 1 imaginary frequencies at q = ( 0.00,  0.00,  0.00) ; (omega_q = 6.167e-09*i)\n"
          ]
        }
      ],
      "source": [
        "from ase.phonons import Phonons\n",
        "from pymatgen.io.ase import AseAtomsAdaptor\n",
        "\n",
        "from m3gnet.models import M3GNet, M3GNetCalculator, Potential\n",
        "\n",
        "mp_129 = mpr.get_structure_by_material_id(mp_id := \"mp-129\")\n",
        "\n",
        "# Setup crystal and EMT calculator\n",
        "atoms = AseAtomsAdaptor().get_atoms(mp_129)\n",
        "\n",
        "potential = Potential(M3GNet.load())\n",
        "\n",
        "calculator = M3GNetCalculator(potential=potential, stress_weight=0.01)\n",
        "\n",
        "# Phonon calculator\n",
        "N = 7\n",
        "supercell = (N, N, N)\n",
        "ph = Phonons(atoms, calculator, supercell=supercell, delta=0.05)\n",
        "ph.run()\n",
        "\n",
        "# Read forces and assemble the dynamical matrix\n",
        "ph.read(acoustic=True)\n",
        "ph.clean()\n",
        "\n",
        "path = atoms.cell.bandpath(\"GHPGN\", npoints=100)\n",
        "bs = ph.get_band_structure(path)\n",
        "\n",
        "dos = ph.get_dos(kpts=(20, 20, 20)).sample_grid(npts=100, width=1e-3)"
      ]
    },
    {
      "cell_type": "code",
      "execution_count": 19,
      "id": "025d5dd9",
      "metadata": {
        "colab": {
          "base_uri": "https://localhost:8080/",
          "height": 670
        },
        "id": "025d5dd9",
        "outputId": "7d9e4784-c03e-4441-b8e6-cbc6894697f9"
      },
      "outputs": [
        {
          "output_type": "execute_result",
          "data": {
            "text/plain": [
              "Text(0.5, 1.02, 'Phonon band structure and DOS of LiFePO4 Mo1 (mp-129) with (7, 7, 7) supercell')"
            ]
          },
          "metadata": {},
          "execution_count": 19
        },
        {
          "output_type": "display_data",
          "data": {
            "text/plain": [
              "<Figure size 1050x600 with 2 Axes>"
            ],
            "image/png": "[encoded data removed]"
          },
          "metadata": {}
        }
      ],
      "source": [
        "# Plot the band structure and DOS:\n",
        "import matplotlib.pyplot as plt\n",
        "\n",
        "plt.rc(\"figure\", dpi=150)\n",
        "\n",
        "fig = plt.figure(1, figsize=(7, 4))\n",
        "bs_ax = fig.add_axes([0.12, 0.07, 0.67, 0.85])\n",
        "\n",
        "emax = 0.035\n",
        "bs.plot(ax=bs_ax, emin=0.0, emax=emax)\n",
        "\n",
        "dos_ax = fig.add_axes([0.8, 0.07, 0.17, 0.85])\n",
        "dos_ax.fill_between(dos.get_weights(), dos.get_energies(), y2=0, color=\"grey\", edgecolor=\"black\", lw=1)\n",
        "\n",
        "dos_ax.set_ylim(0, emax)\n",
        "dos_ax.set_yticks([])\n",
        "dos_ax.set_xticks([])\n",
        "dos_ax.set_xlabel(\"DOS\", fontsize=14)\n",
        "\n",
        "fig.suptitle(\n",
        "    f\"Phonon band structure and DOS of LiFePO4 {mp_129.formula} ({mp_id}) with {supercell} supercell\",\n",
        "    fontsize=12,\n",
        "    y=1.02,\n",
        ")"
      ]
    }
  ],
  "metadata": {
    "kernelspec": {
      "display_name": "Python 3 (ipykernel)",
      "language": "python",
      "name": "python3"
    },
    "language_info": {
      "codemirror_mode": {
        "name": "ipython",
        "version": 3
      },
      "file_extension": ".py",
      "mimetype": "text/x-python",
      "name": "python",
      "nbconvert_exporter": "python",
      "pygments_lexer": "ipython3",
      "version": "3.9.13"
    },
    "vscode": {
      "interpreter": {
        "hash": "95e5cb0dae99d6911ce19b14750141ca4ad955f9302739260772daefb06054c0"
      }
    },
    "colab": {
      "provenance": []
    },
    "widgets": {
      "application/vnd.jupyter.widget-state+json": {
        "18244221d6f2488b8308131444e0cbb3": {
          "model_module": "@jupyter-widgets/controls",
          "model_name": "HBoxModel",
          "model_module_version": "1.5.0",
          "state": {
            "_dom_classes": [],
            "_model_module": "@jupyter-widgets/controls",
            "_model_module_version": "1.5.0",
            "_model_name": "HBoxModel",
            "_view_count": null,
            "_view_module": "@jupyter-widgets/controls",
            "_view_module_version": "1.5.0",
            "_view_name": "HBoxView",
            "box_style": "",
            "children": [
              "IPY_MODEL_3850f3b6362e428cac6993846470caaa",
              "IPY_MODEL_75788dc8cf924ef491b5c4cee548f352",
              "IPY_MODEL_a6d3aed1339341c486b51ce6963b206a"
            ],
            "layout": "IPY_MODEL_03be17cc0ac84f7da0a19756d8122aa8"
          }
        },
        "3850f3b6362e428cac6993846470caaa": {
          "model_module": "@jupyter-widgets/controls",
          "model_name": "HTMLModel",
          "model_module_version": "1.5.0",
          "state": {
            "_dom_classes": [],
            "_model_module": "@jupyter-widgets/controls",
            "_model_module_version": "1.5.0",
            "_model_name": "HTMLModel",
            "_view_count": null,
            "_view_module": "@jupyter-widgets/controls",
            "_view_module_version": "1.5.0",
            "_view_name": "HTMLView",
            "description": "",
            "description_tooltip": null,
            "layout": "IPY_MODEL_c69e4fa8f3ae45ecbdc64abf250c5107",
            "placeholder": "​",
            "style": "IPY_MODEL_04a15d5553ec49b99bd83109683acaab",
            "value": "Retrieving MaterialsDoc documents: 100%"
          }
        },
        "75788dc8cf924ef491b5c4cee548f352": {
          "model_module": "@jupyter-widgets/controls",
          "model_name": "FloatProgressModel",
          "model_module_version": "1.5.0",
          "state": {
            "_dom_classes": [],
            "_model_module": "@jupyter-widgets/controls",
            "_model_module_version": "1.5.0",
            "_model_name": "FloatProgressModel",
            "_view_count": null,
            "_view_module": "@jupyter-widgets/controls",
            "_view_module_version": "1.5.0",
            "_view_name": "ProgressView",
            "bar_style": "success",
            "description": "",
            "description_tooltip": null,
            "layout": "IPY_MODEL_c98b99dc7f6941b5830b919923043d8a",
            "max": 1,
            "min": 0,
            "orientation": "horizontal",
            "style": "IPY_MODEL_4f6bec578032430abf0bb21151583d0c",
            "value": 1
          }
        },
        "a6d3aed1339341c486b51ce6963b206a": {
          "model_module": "@jupyter-widgets/controls",
          "model_name": "HTMLModel",
          "model_module_version": "1.5.0",
          "state": {
            "_dom_classes": [],
            "_model_module": "@jupyter-widgets/controls",
            "_model_module_version": "1.5.0",
            "_model_name": "HTMLModel",
            "_view_count": null,
            "_view_module": "@jupyter-widgets/controls",
            "_view_module_version": "1.5.0",
            "_view_name": "HTMLView",
            "description": "",
            "description_tooltip": null,
            "layout": "IPY_MODEL_05038939530c4860a0ac4ad983139e8e",
            "placeholder": "​",
            "style": "IPY_MODEL_92709f685490479ea125ba9e5e45c619",
            "value": " 1/1 [00:00&lt;00:00, 34.27it/s]"
          }
        },
        "03be17cc0ac84f7da0a19756d8122aa8": {
          "model_module": "@jupyter-widgets/base",
          "model_name": "LayoutModel",
          "model_module_version": "1.2.0",
          "state": {
            "_model_module": "@jupyter-widgets/base",
            "_model_module_version": "1.2.0",
            "_model_name": "LayoutModel",
            "_view_count": null,
            "_view_module": "@jupyter-widgets/base",
            "_view_module_version": "1.2.0",
            "_view_name": "LayoutView",
            "align_content": null,
            "align_items": null,
            "align_self": null,
            "border": null,
            "bottom": null,
            "display": null,
            "flex": null,
            "flex_flow": null,
            "grid_area": null,
            "grid_auto_columns": null,
            "grid_auto_flow": null,
            "grid_auto_rows": null,
            "grid_column": null,
            "grid_gap": null,
            "grid_row": null,
            "grid_template_areas": null,
            "grid_template_columns": null,
            "grid_template_rows": null,
            "height": null,
            "justify_content": null,
            "justify_items": null,
            "left": null,
            "margin": null,
            "max_height": null,
            "max_width": null,
            "min_height": null,
            "min_width": null,
            "object_fit": null,
            "object_position": null,
            "order": null,
            "overflow": null,
            "overflow_x": null,
            "overflow_y": null,
            "padding": null,
            "right": null,
            "top": null,
            "visibility": null,
            "width": null
          }
        },
        "c69e4fa8f3ae45ecbdc64abf250c5107": {
          "model_module": "@jupyter-widgets/base",
          "model_name": "LayoutModel",
          "model_module_version": "1.2.0",
          "state": {
            "_model_module": "@jupyter-widgets/base",
            "_model_module_version": "1.2.0",
            "_model_name": "LayoutModel",
            "_view_count": null,
            "_view_module": "@jupyter-widgets/base",
            "_view_module_version": "1.2.0",
            "_view_name": "LayoutView",
            "align_content": null,
            "align_items": null,
            "align_self": null,
            "border": null,
            "bottom": null,
            "display": null,
            "flex": null,
            "flex_flow": null,
            "grid_area": null,
            "grid_auto_columns": null,
            "grid_auto_flow": null,
            "grid_auto_rows": null,
            "grid_column": null,
            "grid_gap": null,
            "grid_row": null,
            "grid_template_areas": null,
            "grid_template_columns": null,
            "grid_template_rows": null,
            "height": null,
            "justify_content": null,
            "justify_items": null,
            "left": null,
            "margin": null,
            "max_height": null,
            "max_width": null,
            "min_height": null,
            "min_width": null,
            "object_fit": null,
            "object_position": null,
            "order": null,
            "overflow": null,
            "overflow_x": null,
            "overflow_y": null,
            "padding": null,
            "right": null,
            "top": null,
            "visibility": null,
            "width": null
          }
        },
        "04a15d5553ec49b99bd83109683acaab": {
          "model_module": "@jupyter-widgets/controls",
          "model_name": "DescriptionStyleModel",
          "model_module_version": "1.5.0",
          "state": {
            "_model_module": "@jupyter-widgets/controls",
            "_model_module_version": "1.5.0",
            "_model_name": "DescriptionStyleModel",
            "_view_count": null,
            "_view_module": "@jupyter-widgets/base",
            "_view_module_version": "1.2.0",
            "_view_name": "StyleView",
            "description_width": ""
          }
        },
        "c98b99dc7f6941b5830b919923043d8a": {
          "model_module": "@jupyter-widgets/base",
          "model_name": "LayoutModel",
          "model_module_version": "1.2.0",
          "state": {
            "_model_module": "@jupyter-widgets/base",
            "_model_module_version": "1.2.0",
            "_model_name": "LayoutModel",
            "_view_count": null,
            "_view_module": "@jupyter-widgets/base",
            "_view_module_version": "1.2.0",
            "_view_name": "LayoutView",
            "align_content": null,
            "align_items": null,
            "align_self": null,
            "border": null,
            "bottom": null,
            "display": null,
            "flex": null,
            "flex_flow": null,
            "grid_area": null,
            "grid_auto_columns": null,
            "grid_auto_flow": null,
            "grid_auto_rows": null,
            "grid_column": null,
            "grid_gap": null,
            "grid_row": null,
            "grid_template_areas": null,
            "grid_template_columns": null,
            "grid_template_rows": null,
            "height": null,
            "justify_content": null,
            "justify_items": null,
            "left": null,
            "margin": null,
            "max_height": null,
            "max_width": null,
            "min_height": null,
            "min_width": null,
            "object_fit": null,
            "object_position": null,
            "order": null,
            "overflow": null,
            "overflow_x": null,
            "overflow_y": null,
            "padding": null,
            "right": null,
            "top": null,
            "visibility": null,
            "width": null
          }
        },
        "4f6bec578032430abf0bb21151583d0c": {
          "model_module": "@jupyter-widgets/controls",
          "model_name": "ProgressStyleModel",
          "model_module_version": "1.5.0",
          "state": {
            "_model_module": "@jupyter-widgets/controls",
            "_model_module_version": "1.5.0",
            "_model_name": "ProgressStyleModel",
            "_view_count": null,
            "_view_module": "@jupyter-widgets/base",
            "_view_module_version": "1.2.0",
            "_view_name": "StyleView",
            "bar_color": null,
            "description_width": ""
          }
        },
        "05038939530c4860a0ac4ad983139e8e": {
          "model_module": "@jupyter-widgets/base",
          "model_name": "LayoutModel",
          "model_module_version": "1.2.0",
          "state": {
            "_model_module": "@jupyter-widgets/base",
            "_model_module_version": "1.2.0",
            "_model_name": "LayoutModel",
            "_view_count": null,
            "_view_module": "@jupyter-widgets/base",
            "_view_module_version": "1.2.0",
            "_view_name": "LayoutView",
            "align_content": null,
            "align_items": null,
            "align_self": null,
            "border": null,
            "bottom": null,
            "display": null,
            "flex": null,
            "flex_flow": null,
            "grid_area": null,
            "grid_auto_columns": null,
            "grid_auto_flow": null,
            "grid_auto_rows": null,
            "grid_column": null,
            "grid_gap": null,
            "grid_row": null,
            "grid_template_areas": null,
            "grid_template_columns": null,
            "grid_template_rows": null,
            "height": null,
            "justify_content": null,
            "justify_items": null,
            "left": null,
            "margin": null,
            "max_height": null,
            "max_width": null,
            "min_height": null,
            "min_width": null,
            "object_fit": null,
            "object_position": null,
            "order": null,
            "overflow": null,
            "overflow_x": null,
            "overflow_y": null,
            "padding": null,
            "right": null,
            "top": null,
            "visibility": null,
            "width": null
          }
        },
        "92709f685490479ea125ba9e5e45c619": {
          "model_module": "@jupyter-widgets/controls",
          "model_name": "DescriptionStyleModel",
          "model_module_version": "1.5.0",
          "state": {
            "_model_module": "@jupyter-widgets/controls",
            "_model_module_version": "1.5.0",
            "_model_name": "DescriptionStyleModel",
            "_view_count": null,
            "_view_module": "@jupyter-widgets/base",
            "_view_module_version": "1.2.0",
            "_view_name": "StyleView",
            "description_width": ""
          }
        },
        "ce99aa8bac974c069ba16fafd499a97f": {
          "model_module": "@jupyter-widgets/controls",
          "model_name": "HBoxModel",
          "model_module_version": "1.5.0",
          "state": {
            "_dom_classes": [],
            "_model_module": "@jupyter-widgets/controls",
            "_model_module_version": "1.5.0",
            "_model_name": "HBoxModel",
            "_view_count": null,
            "_view_module": "@jupyter-widgets/controls",
            "_view_module_version": "1.5.0",
            "_view_name": "HBoxView",
            "box_style": "",
            "children": [
              "IPY_MODEL_21bc981669b449ce8d2d2302b0422b17",
              "IPY_MODEL_1e7dd8a880604743b2cbfbcb0629ee8d",
              "IPY_MODEL_7a3c80a5b2e541b7b0ba4d5c5a45d291"
            ],
            "layout": "IPY_MODEL_41f6dd1410814e61b2ad8c8bf2e27efb"
          }
        },
        "21bc981669b449ce8d2d2302b0422b17": {
          "model_module": "@jupyter-widgets/controls",
          "model_name": "HTMLModel",
          "model_module_version": "1.5.0",
          "state": {
            "_dom_classes": [],
            "_model_module": "@jupyter-widgets/controls",
            "_model_module_version": "1.5.0",
            "_model_name": "HTMLModel",
            "_view_count": null,
            "_view_module": "@jupyter-widgets/controls",
            "_view_module_version": "1.5.0",
            "_view_name": "HTMLView",
            "description": "",
            "description_tooltip": null,
            "layout": "IPY_MODEL_df864ad5c1234ea9bcaeef0cfe748ace",
            "placeholder": "​",
            "style": "IPY_MODEL_de44f8d191c04f028c9205abc77396b3",
            "value": "Retrieving MaterialsDoc documents: 100%"
          }
        },
        "1e7dd8a880604743b2cbfbcb0629ee8d": {
          "model_module": "@jupyter-widgets/controls",
          "model_name": "FloatProgressModel",
          "model_module_version": "1.5.0",
          "state": {
            "_dom_classes": [],
            "_model_module": "@jupyter-widgets/controls",
            "_model_module_version": "1.5.0",
            "_model_name": "FloatProgressModel",
            "_view_count": null,
            "_view_module": "@jupyter-widgets/controls",
            "_view_module_version": "1.5.0",
            "_view_name": "ProgressView",
            "bar_style": "success",
            "description": "",
            "description_tooltip": null,
            "layout": "IPY_MODEL_11128dc19aac424795715f85c4cf860c",
            "max": 1,
            "min": 0,
            "orientation": "horizontal",
            "style": "IPY_MODEL_874cc4f4a25746259244380db6505c7b",
            "value": 1
          }
        },
        "7a3c80a5b2e541b7b0ba4d5c5a45d291": {
          "model_module": "@jupyter-widgets/controls",
          "model_name": "HTMLModel",
          "model_module_version": "1.5.0",
          "state": {
            "_dom_classes": [],
            "_model_module": "@jupyter-widgets/controls",
            "_model_module_version": "1.5.0",
            "_model_name": "HTMLModel",
            "_view_count": null,
            "_view_module": "@jupyter-widgets/controls",
            "_view_module_version": "1.5.0",
            "_view_name": "HTMLView",
            "description": "",
            "description_tooltip": null,
            "layout": "IPY_MODEL_6169f68177be4f10b4cae173f7a3d1c3",
            "placeholder": "​",
            "style": "IPY_MODEL_01aa72c7341b4481b10a42df3394dfa2",
            "value": " 1/1 [00:00&lt;00:00, 41.66it/s]"
          }
        },
        "41f6dd1410814e61b2ad8c8bf2e27efb": {
          "model_module": "@jupyter-widgets/base",
          "model_name": "LayoutModel",
          "model_module_version": "1.2.0",
          "state": {
            "_model_module": "@jupyter-widgets/base",
            "_model_module_version": "1.2.0",
            "_model_name": "LayoutModel",
            "_view_count": null,
            "_view_module": "@jupyter-widgets/base",
            "_view_module_version": "1.2.0",
            "_view_name": "LayoutView",
            "align_content": null,
            "align_items": null,
            "align_self": null,
            "border": null,
            "bottom": null,
            "display": null,
            "flex": null,
            "flex_flow": null,
            "grid_area": null,
            "grid_auto_columns": null,
            "grid_auto_flow": null,
            "grid_auto_rows": null,
            "grid_column": null,
            "grid_gap": null,
            "grid_row": null,
            "grid_template_areas": null,
            "grid_template_columns": null,
            "grid_template_rows": null,
            "height": null,
            "justify_content": null,
            "justify_items": null,
            "left": null,
            "margin": null,
            "max_height": null,
            "max_width": null,
            "min_height": null,
            "min_width": null,
            "object_fit": null,
            "object_position": null,
            "order": null,
            "overflow": null,
            "overflow_x": null,
            "overflow_y": null,
            "padding": null,
            "right": null,
            "top": null,
            "visibility": null,
            "width": null
          }
        },
        "df864ad5c1234ea9bcaeef0cfe748ace": {
          "model_module": "@jupyter-widgets/base",
          "model_name": "LayoutModel",
          "model_module_version": "1.2.0",
          "state": {
            "_model_module": "@jupyter-widgets/base",
            "_model_module_version": "1.2.0",
            "_model_name": "LayoutModel",
            "_view_count": null,
            "_view_module": "@jupyter-widgets/base",
            "_view_module_version": "1.2.0",
            "_view_name": "LayoutView",
            "align_content": null,
            "align_items": null,
            "align_self": null,
            "border": null,
            "bottom": null,
            "display": null,
            "flex": null,
            "flex_flow": null,
            "grid_area": null,
            "grid_auto_columns": null,
            "grid_auto_flow": null,
            "grid_auto_rows": null,
            "grid_column": null,
            "grid_gap": null,
            "grid_row": null,
            "grid_template_areas": null,
            "grid_template_columns": null,
            "grid_template_rows": null,
            "height": null,
            "justify_content": null,
            "justify_items": null,
            "left": null,
            "margin": null,
            "max_height": null,
            "max_width": null,
            "min_height": null,
            "min_width": null,
            "object_fit": null,
            "object_position": null,
            "order": null,
            "overflow": null,
            "overflow_x": null,
            "overflow_y": null,
            "padding": null,
            "right": null,
            "top": null,
            "visibility": null,
            "width": null
          }
        },
        "de44f8d191c04f028c9205abc77396b3": {
          "model_module": "@jupyter-widgets/controls",
          "model_name": "DescriptionStyleModel",
          "model_module_version": "1.5.0",
          "state": {
            "_model_module": "@jupyter-widgets/controls",
            "_model_module_version": "1.5.0",
            "_model_name": "DescriptionStyleModel",
            "_view_count": null,
            "_view_module": "@jupyter-widgets/base",
            "_view_module_version": "1.2.0",
            "_view_name": "StyleView",
            "description_width": ""
          }
        },
        "11128dc19aac424795715f85c4cf860c": {
          "model_module": "@jupyter-widgets/base",
          "model_name": "LayoutModel",
          "model_module_version": "1.2.0",
          "state": {
            "_model_module": "@jupyter-widgets/base",
            "_model_module_version": "1.2.0",
            "_model_name": "LayoutModel",
            "_view_count": null,
            "_view_module": "@jupyter-widgets/base",
            "_view_module_version": "1.2.0",
            "_view_name": "LayoutView",
            "align_content": null,
            "align_items": null,
            "align_self": null,
            "border": null,
            "bottom": null,
            "display": null,
            "flex": null,
            "flex_flow": null,
            "grid_area": null,
            "grid_auto_columns": null,
            "grid_auto_flow": null,
            "grid_auto_rows": null,
            "grid_column": null,
            "grid_gap": null,
            "grid_row": null,
            "grid_template_areas": null,
            "grid_template_columns": null,
            "grid_template_rows": null,
            "height": null,
            "justify_content": null,
            "justify_items": null,
            "left": null,
            "margin": null,
            "max_height": null,
            "max_width": null,
            "min_height": null,
            "min_width": null,
            "object_fit": null,
            "object_position": null,
            "order": null,
            "overflow": null,
            "overflow_x": null,
            "overflow_y": null,
            "padding": null,
            "right": null,
            "top": null,
            "visibility": null,
            "width": null
          }
        },
        "874cc4f4a25746259244380db6505c7b": {
          "model_module": "@jupyter-widgets/controls",
          "model_name": "ProgressStyleModel",
          "model_module_version": "1.5.0",
          "state": {
            "_model_module": "@jupyter-widgets/controls",
            "_model_module_version": "1.5.0",
            "_model_name": "ProgressStyleModel",
            "_view_count": null,
            "_view_module": "@jupyter-widgets/base",
            "_view_module_version": "1.2.0",
            "_view_name": "StyleView",
            "bar_color": null,
            "description_width": ""
          }
        },
        "6169f68177be4f10b4cae173f7a3d1c3": {
          "model_module": "@jupyter-widgets/base",
          "model_name": "LayoutModel",
          "model_module_version": "1.2.0",
          "state": {
            "_model_module": "@jupyter-widgets/base",
            "_model_module_version": "1.2.0",
            "_model_name": "LayoutModel",
            "_view_count": null,
            "_view_module": "@jupyter-widgets/base",
            "_view_module_version": "1.2.0",
            "_view_name": "LayoutView",
            "align_content": null,
            "align_items": null,
            "align_self": null,
            "border": null,
            "bottom": null,
            "display": null,
            "flex": null,
            "flex_flow": null,
            "grid_area": null,
            "grid_auto_columns": null,
            "grid_auto_flow": null,
            "grid_auto_rows": null,
            "grid_column": null,
            "grid_gap": null,
            "grid_row": null,
            "grid_template_areas": null,
            "grid_template_columns": null,
            "grid_template_rows": null,
            "height": null,
            "justify_content": null,
            "justify_items": null,
            "left": null,
            "margin": null,
            "max_height": null,
            "max_width": null,
            "min_height": null,
            "min_width": null,
            "object_fit": null,
            "object_position": null,
            "order": null,
            "overflow": null,
            "overflow_x": null,
            "overflow_y": null,
            "padding": null,
            "right": null,
            "top": null,
            "visibility": null,
            "width": null
          }
        },
        "01aa72c7341b4481b10a42df3394dfa2": {
          "model_module": "@jupyter-widgets/controls",
          "model_name": "DescriptionStyleModel",
          "model_module_version": "1.5.0",
          "state": {
            "_model_module": "@jupyter-widgets/controls",
            "_model_module_version": "1.5.0",
            "_model_name": "DescriptionStyleModel",
            "_view_count": null,
            "_view_module": "@jupyter-widgets/base",
            "_view_module_version": "1.2.0",
            "_view_name": "StyleView",
            "description_width": ""
          }
        }
      }
    }
  },
  "nbformat": 4,
  "nbformat_minor": 5
}