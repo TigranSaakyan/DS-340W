{
  "cells": [
    {
      "cell_type": "markdown",
      "id": "556686fe",
      "metadata": {
        "id": "556686fe"
      },
      "source": [
        "# Introduction\n",
        "\n",
        "This notebook shows an example of relaxing the LiFePO4 crystal.\n",
        "\n",
        "If you are running this notebook from Google Colab, uncomment the next code box to install m3gnet first."
      ]
    },
    {
      "cell_type": "code",
      "execution_count": null,
      "id": "5818a2b9",
      "metadata": {
        "id": "5818a2b9"
      },
      "outputs": [],
      "source": [
        "# !pip install m3gnet\n",
        "# !pip install ase\n",
        "# !pip install pymatgen"
      ]
    },
    {
      "cell_type": "code",
      "execution_count": null,
      "id": "5e008446",
      "metadata": {
        "id": "5e008446"
      },
      "outputs": [],
      "source": [
        "import warnings\n",
        "\n",
        "import numpy as np\n",
        "from pymatgen.ext.matproj import MPRester\n",
        "from pymatgen.util.coord import pbc_diff\n",
        "\n",
        "from m3gnet.models import Relaxer\n",
        "\n",
        "for category in (UserWarning, DeprecationWarning):\n",
        "    warnings.filterwarnings(\"ignore\", category=category, module=\"tensorflow\")"
      ]
    },
    {
      "cell_type": "code",
      "execution_count": null,
      "id": "0cc2e942",
      "metadata": {
        "colab": {
          "base_uri": "https://localhost:8080/",
          "height": 84,
          "referenced_widgets": [
            "9bef2c6dc632427d8ca00ac229df1165",
            "8f9607035f524514a77d619b5f83af5a",
            "429fd46014dd4354873409741dc3bbd7",
            "91f4fe23e5c449e595f93745b6ff5ff9",
            "1f282bcda5ef43bea3909e43279ccefa",
            "fdac0b636cc0461da5d31bc513083d97",
            "cee3b771c15449c594182902009427c9",
            "b7f2f316e3df44a3b58bb3ec5b7779eb",
            "4dc47a2138a94ecf9a9596ebe239b37c",
            "81e9d8d4d5fe4c929dc3fba62b1687bc",
            "23cbe7e4b9c343a6b29a11a5a7a83c33"
          ]
        },
        "id": "0cc2e942",
        "outputId": "55322c8d-b264-45b9-f0d7-0754aa6b2fcf"
      },
      "outputs": [
        {
          "output_type": "stream",
          "name": "stderr",
          "text": [
            "/usr/local/lib/python3.10/dist-packages/mp_api/client/mprester.py:193: UserWarning: mpcontribs-client not installed. Install the package to query MPContribs data, or construct pourbaix diagrams: 'pip install mpcontribs-client'\n",
            "  warnings.warn(\n"
          ]
        },
        {
          "output_type": "display_data",
          "data": {
            "text/plain": [
              "Retrieving MaterialsDoc documents:   0%|          | 0/1 [00:00<?, ?it/s]"
            ],
            "application/vnd.jupyter.widget-view+json": {
              "version_major": 2,
              "version_minor": 0,
              "model_id": "9bef2c6dc632427d8ca00ac229df1165"
            }
          },
          "metadata": {}
        }
      ],
      "source": [
        "mpr = MPRester(\"4HmCPQXiVVZmUjfuKNJSgE0G6MPLfTAA\")\n",
        "lfp = mpr.get_structure_by_material_id(\"mp-19017\")  # This is LiFePO4.\n",
        "\n",
        "lfp_strained = lfp.copy()  # We create a copy.\n",
        "# Create a random strain between -5% and 5% for each direction\n",
        "strains = np.random.uniform(low=-0.05, high=0.05, size=3)\n",
        "lfp_strained.apply_strain(strains)\n",
        "# In addition to the lattice strains, we also perturb the atoms by a distance of 0.1 angstrom.\n",
        "lfp_strained.perturb(0.1)"
      ]
    },
    {
      "cell_type": "code",
      "execution_count": null,
      "id": "f8897c0e",
      "metadata": {
        "colab": {
          "base_uri": "https://localhost:8080/"
        },
        "id": "f8897c0e",
        "outputId": "b179dae7-1c96-4a25-fdf4-0d5b9b30a2fe"
      },
      "outputs": [
        {
          "output_type": "stream",
          "name": "stderr",
          "text": [
            "WARNING:tensorflow:You are casting an input of type complex64 to an incompatible dtype float32.  This will discard the imaginary part and may not be what you intended.\n",
            "WARNING:tensorflow:You are casting an input of type complex64 to an incompatible dtype float32.  This will discard the imaginary part and may not be what you intended.\n",
            "WARNING:tensorflow:You are casting an input of type complex64 to an incompatible dtype float32.  This will discard the imaginary part and may not be what you intended.\n",
            "WARNING:tensorflow:You are casting an input of type complex64 to an incompatible dtype float32.  This will discard the imaginary part and may not be what you intended.\n",
            "WARNING:tensorflow:You are casting an input of type complex64 to an incompatible dtype float32.  This will discard the imaginary part and may not be what you intended.\n"
          ]
        },
        {
          "output_type": "stream",
          "name": "stdout",
          "text": [
            "CPU times: user 36 s, sys: 11.7 s, total: 47.6 s\n",
            "Wall time: 43.1 s\n"
          ]
        }
      ],
      "source": [
        "relaxer = Relaxer()\n",
        "relax_results: dict\n",
        "%time relax_results = relaxer.relax(lfp_strained)\n",
        "relaxed_struct = relax_results[\"final_structure\"]"
      ]
    },
    {
      "cell_type": "markdown",
      "id": "a9ede3fc",
      "metadata": {
        "id": "a9ede3fc"
      },
      "source": [
        "Note that the relaxation only took < 20s."
      ]
    },
    {
      "cell_type": "markdown",
      "id": "d1b355f7",
      "metadata": {
        "id": "d1b355f7"
      },
      "source": [
        "The relaxation using the M3GNet universal IAP has brought the lattice parameters much closer to the original DFT ones and the coordinates are also within $10^{-3}$ of the original fractional coordinates."
      ]
    },
    {
      "cell_type": "code",
      "execution_count": null,
      "id": "2abb1e07",
      "metadata": {
        "colab": {
          "base_uri": "https://localhost:8080/"
        },
        "id": "2abb1e07",
        "outputId": "805f031a-0aed-4688-83a9-f8cb72d2bba8"
      },
      "outputs": [
        {
          "output_type": "stream",
          "name": "stdout",
          "text": [
            "Original lattice parameters are [10.236, 5.971, 4.655]\n",
            "Strained lattice parameters are [9.954, 6.233, 4.776]\n",
            "Relaxed lattice parameters are [10.439, 6.1, 4.752]\n"
          ]
        }
      ],
      "source": [
        "print(f\"Original lattice parameters are {[round(x, 3) for x in lfp.lattice.abc]}\")\n",
        "print(f\"Strained lattice parameters are {[round(x, 3) for x in lfp_strained.lattice.abc]}\")\n",
        "print(f\"Relaxed lattice parameters are {[round(x, 3) for x in relaxed_struct.lattice.abc]}\")"
      ]
    },
    {
      "cell_type": "code",
      "execution_count": null,
      "id": "1320a18b",
      "metadata": {
        "colab": {
          "base_uri": "https://localhost:8080/"
        },
        "id": "1320a18b",
        "outputId": "b77ecf6f-8c85-46b4-c572-443ae34a7ee9"
      },
      "outputs": [
        {
          "output_type": "execute_result",
          "data": {
            "text/plain": [
              "array([[0.9903993 , 0.00114544, 0.00598492],\n",
              "       [0.50194289, 0.48617413, 0.50981972],\n",
              "       [0.50161988, 0.00222787, 0.47953985],\n",
              "       [0.99658164, 0.50706479, 0.01739777],\n",
              "       [0.77214799, 0.25170305, 0.52084376],\n",
              "       [0.72743754, 0.74414641, 0.02214501],\n",
              "       [0.27757935, 0.26243236, 0.98107566],\n",
              "       [0.21879512, 0.7655097 , 0.46477945],\n",
              "       [0.09656114, 0.25573149, 0.43735655],\n",
              "       [0.40530703, 0.75731526, 0.93717998],\n",
              "       [0.60289285, 0.25620875, 0.07703445],\n",
              "       [0.89927153, 0.75551128, 0.5948732 ],\n",
              "       [0.09113114, 0.23718995, 0.73396135],\n",
              "       [0.82478456, 0.54142164, 0.71901949],\n",
              "       [0.82752029, 0.95362835, 0.72942424],\n",
              "       [0.91578336, 0.75051077, 0.25364042],\n",
              "       [0.0397918 , 0.76421147, 0.71226901],\n",
              "       [0.40063611, 0.74852221, 0.22688911],\n",
              "       [0.16556039, 0.04998456, 0.26614753],\n",
              "       [0.67396954, 0.46313269, 0.21853913],\n",
              "       [0.34084011, 0.55451424, 0.77589023],\n",
              "       [0.33298509, 0.96794708, 0.77522639],\n",
              "       [0.95091653, 0.26411515, 0.29003763],\n",
              "       [0.4534317 , 0.23795061, 0.19686534],\n",
              "       [0.53518058, 0.74628005, 0.7828615 ],\n",
              "       [0.58968999, 0.25443407, 0.77297526],\n",
              "       [0.65704447, 0.04993593, 0.20540783],\n",
              "       [0.16988097, 0.45935928, 0.30433592]])"
            ]
          },
          "metadata": {},
          "execution_count": 26
        }
      ],
      "source": [
        "lfp_strained.frac_coords"
      ]
    },
    {
      "cell_type": "code",
      "execution_count": null,
      "id": "15e61f60",
      "metadata": {
        "colab": {
          "base_uri": "https://localhost:8080/"
        },
        "id": "15e61f60",
        "outputId": "bd66530f-2b5b-4547-81b0-079e0cdff8a1"
      },
      "outputs": [
        {
          "output_type": "stream",
          "name": "stdout",
          "text": [
            "mean diff in frac. coords. between strained and original LFP structure: 0.00774\n"
          ]
        }
      ],
      "source": [
        "strained_to_orig_frac_coords_mean_diff = abs(pbc_diff(lfp_strained.frac_coords, lfp.frac_coords)).mean()\n",
        "\n",
        "print(\n",
        "    \"mean diff in frac. coords. between strained and original \"\n",
        "    f\"LFP structure: {strained_to_orig_frac_coords_mean_diff:.3}\"\n",
        ")"
      ]
    },
    {
      "cell_type": "code",
      "execution_count": null,
      "id": "96bd6e24",
      "metadata": {
        "colab": {
          "base_uri": "https://localhost:8080/"
        },
        "id": "96bd6e24",
        "outputId": "d622f3a8-b5c8-41d2-92aa-d30046c75ed5"
      },
      "outputs": [
        {
          "output_type": "stream",
          "name": "stdout",
          "text": [
            "mean diff in frac. coords. between original and M3GNet-relaxed LFP structure: 0.00342\n"
          ]
        }
      ],
      "source": [
        "orig_to_m3gnet_frac_coords_mean_diff = abs(pbc_diff(lfp.frac_coords, relaxed_struct.frac_coords)).mean()\n",
        "\n",
        "print(\n",
        "    \"mean diff in frac. coords. between original and M3GNet-relaxed \"\n",
        "    f\"LFP structure: {orig_to_m3gnet_frac_coords_mean_diff:.3}\"\n",
        ")"
      ]
    },
    {
      "cell_type": "code",
      "execution_count": null,
      "id": "f1e46851",
      "metadata": {
        "colab": {
          "base_uri": "https://localhost:8080/"
        },
        "id": "f1e46851",
        "outputId": "c2255111-391f-490f-fd3f-3851a0672ad9"
      },
      "outputs": [
        {
          "output_type": "stream",
          "name": "stdout",
          "text": [
            "M3GNet reduces the mean difference in frac. coords. from the strained to the original structure by a factor of: 2.26\n"
          ]
        }
      ],
      "source": [
        "mean_pbc_diff_ratio = strained_to_orig_frac_coords_mean_diff / orig_to_m3gnet_frac_coords_mean_diff\n",
        "\n",
        "print(\n",
        "    f\"M3GNet reduces the mean difference in frac. coords. from the strained \"\n",
        "    f\"to the original structure by a factor of: {mean_pbc_diff_ratio:.3}\"\n",
        ")"
      ]
    },
    {
      "cell_type": "markdown",
      "id": "a064bd17",
      "metadata": {
        "id": "a064bd17"
      },
      "source": [
        "# Phonon Band Structure and DOS\n",
        "\n",
        "The M3GNet IAP can also be used to compute the lattice vibrations in a super cell."
      ]
    },
    {
      "cell_type": "code",
      "execution_count": null,
      "id": "71339aa0",
      "metadata": {
        "colab": {
          "base_uri": "https://localhost:8080/",
          "height": 136,
          "referenced_widgets": [
            "4c5ddfbac0e3407a9856c0962ad74ea3",
            "32392dfe4d6947c99cc25d1ce199296a",
            "dcb37eb2533c482f8d073c4e64883435",
            "d05ede1c292a4d8da024aec63f1cb3eb",
            "c823b18bf09e4d3685be7e6ecd68f233",
            "c78d9e8fa41e4091884b84cb45afff47",
            "d31ce90b9c9e4701b4a625aaca51e62e",
            "06a82e3ee6e341189e7c96fde84b7752",
            "88f7aef154a84e3aaf8b1904347391ef",
            "dfaa5de6f4a544179d575789ca1a6c6c",
            "32c3b2d5644d437b82ce93e1aa4fcf47"
          ]
        },
        "id": "71339aa0",
        "outputId": "c1a87a7a-43f6-4467-a402-3e5feb16b580"
      },
      "outputs": [
        {
          "output_type": "display_data",
          "data": {
            "text/plain": [
              "Retrieving MaterialsDoc documents:   0%|          | 0/1 [00:00<?, ?it/s]"
            ],
            "application/vnd.jupyter.widget-view+json": {
              "version_major": 2,
              "version_minor": 0,
              "model_id": "4c5ddfbac0e3407a9856c0962ad74ea3"
            }
          },
          "metadata": {}
        },
        {
          "output_type": "stream",
          "name": "stderr",
          "text": [
            "WARNING:tensorflow:You are casting an input of type complex64 to an incompatible dtype float32.  This will discard the imaginary part and may not be what you intended.\n",
            "WARNING:tensorflow:You are casting an input of type complex64 to an incompatible dtype float32.  This will discard the imaginary part and may not be what you intended.\n",
            "WARNING:tensorflow:You are casting an input of type complex64 to an incompatible dtype float32.  This will discard the imaginary part and may not be what you intended.\n"
          ]
        },
        {
          "output_type": "stream",
          "name": "stdout",
          "text": [
            "WARNING, 2 imaginary frequencies at q = ( 0.00,  0.00,  0.00) ; (omega_q = 5.987e-09*i)\n",
            "WARNING, 2 imaginary frequencies at q = ( 0.00,  0.00,  0.00) ; (omega_q = 5.987e-09*i)\n"
          ]
        }
      ],
      "source": [
        "from ase.phonons import Phonons\n",
        "from pymatgen.io.ase import AseAtomsAdaptor\n",
        "\n",
        "from m3gnet.models import M3GNet, M3GNetCalculator, Potential\n",
        "\n",
        "mp_129 = mpr.get_structure_by_material_id(mp_id := \"mp-129\")\n",
        "\n",
        "# Setup crystal and EMT calculator\n",
        "atoms = AseAtomsAdaptor().get_atoms(mp_129)\n",
        "\n",
        "potential = Potential(M3GNet.load())\n",
        "\n",
        "calculator = M3GNetCalculator(potential=potential, stress_weight=0.01)\n",
        "\n",
        "# Phonon calculator\n",
        "N = 7\n",
        "supercell = (N, N, N)\n",
        "ph = Phonons(atoms, calculator, supercell=supercell, delta=0.05)\n",
        "ph.run()\n",
        "\n",
        "# Read forces and assemble the dynamical matrix\n",
        "ph.read(acoustic=True)\n",
        "ph.clean()\n",
        "\n",
        "path = atoms.cell.bandpath(\"GHPGN\", npoints=100)\n",
        "bs = ph.get_band_structure(path)\n",
        "\n",
        "dos = ph.get_dos(kpts=(20, 20, 20)).sample_grid(npts=100, width=1e-3)"
      ]
    },
    {
      "cell_type": "code",
      "execution_count": null,
      "id": "025d5dd9",
      "metadata": {
        "colab": {
          "base_uri": "https://localhost:8080/",
          "height": 670
        },
        "id": "025d5dd9",
        "outputId": "8757d9fc-a1c2-45a4-ec9f-d1d3a7a59fe8"
      },
      "outputs": [
        {
          "output_type": "execute_result",
          "data": {
            "text/plain": [
              "Text(0.5, 1.02, 'Phonon band structure and DOS of LiFePO4 Mo1 (mp-129) with (7, 7, 7) supercell')"
            ]
          },
          "metadata": {},
          "execution_count": 31
        },
        {
          "output_type": "display_data",
          "data": {
            "text/plain": [
              "<Figure size 1050x600 with 2 Axes>"
            ],
            "image/png": "[encoded data removed]"
          },
          "metadata": {}
        }
      ],
      "source": [
        "# Plot the band structure and DOS:\n",
        "import matplotlib.pyplot as plt\n",
        "\n",
        "plt.rc(\"figure\", dpi=150)\n",
        "\n",
        "fig = plt.figure(1, figsize=(7, 4))\n",
        "bs_ax = fig.add_axes([0.12, 0.07, 0.67, 0.85])\n",
        "\n",
        "emax = 0.035\n",
        "bs.plot(ax=bs_ax, emin=0.0, emax=emax)\n",
        "\n",
        "dos_ax = fig.add_axes([0.8, 0.07, 0.17, 0.85])\n",
        "dos_ax.fill_between(dos.get_weights(), dos.get_energies(), y2=0, color=\"grey\", edgecolor=\"black\", lw=1)\n",
        "\n",
        "dos_ax.set_ylim(0, emax)\n",
        "dos_ax.set_yticks([])\n",
        "dos_ax.set_xticks([])\n",
        "dos_ax.set_xlabel(\"DOS\", fontsize=14)\n",
        "\n",
        "fig.suptitle(\n",
        "    f\"Phonon band structure and DOS of LiFePO4 {mp_129.formula} ({mp_id}) with {supercell} supercell\",\n",
        "    fontsize=12,\n",
        "    y=1.02,\n",
        ")"
      ]
    }
  ],
  "metadata": {
    "kernelspec": {
      "display_name": "Python 3 (ipykernel)",
      "language": "python",
      "name": "python3"
    },
    "language_info": {
      "codemirror_mode": {
        "name": "ipython",
        "version": 3
      },
      "file_extension": ".py",
      "mimetype": "text/x-python",
      "name": "python",
      "nbconvert_exporter": "python",
      "pygments_lexer": "ipython3",
      "version": "3.9.13"
    },
    "vscode": {
      "interpreter": {
        "hash": "95e5cb0dae99d6911ce19b14750141ca4ad955f9302739260772daefb06054c0"
      }
    },
    "colab": {
      "provenance": []
    },
    "widgets": {
      "application/vnd.jupyter.widget-state+json": {
        "9bef2c6dc632427d8ca00ac229df1165": {
          "model_module": "@jupyter-widgets/controls",
          "model_name": "HBoxModel",
          "model_module_version": "1.5.0",
          "state": {
            "_dom_classes": [],
            "_model_module": "@jupyter-widgets/controls",
            "_model_module_version": "1.5.0",
            "_model_name": "HBoxModel",
            "_view_count": null,
            "_view_module": "@jupyter-widgets/controls",
            "_view_module_version": "1.5.0",
            "_view_name": "HBoxView",
            "box_style": "",
            "children": [
              "IPY_MODEL_8f9607035f524514a77d619b5f83af5a",
              "IPY_MODEL_429fd46014dd4354873409741dc3bbd7",
              "IPY_MODEL_91f4fe23e5c449e595f93745b6ff5ff9"
            ],
            "layout": "IPY_MODEL_1f282bcda5ef43bea3909e43279ccefa"
          }
        },
        "8f9607035f524514a77d619b5f83af5a": {
          "model_module": "@jupyter-widgets/controls",
          "model_name": "HTMLModel",
          "model_module_version": "1.5.0",
          "state": {
            "_dom_classes": [],
            "_model_module": "@jupyter-widgets/controls",
            "_model_module_version": "1.5.0",
            "_model_name": "HTMLModel",
            "_view_count": null,
            "_view_module": "@jupyter-widgets/controls",
            "_view_module_version": "1.5.0",
            "_view_name": "HTMLView",
            "description": "",
            "description_tooltip": null,
            "layout": "IPY_MODEL_fdac0b636cc0461da5d31bc513083d97",
            "placeholder": "​",
            "style": "IPY_MODEL_cee3b771c15449c594182902009427c9",
            "value": "Retrieving MaterialsDoc documents: 100%"
          }
        },
        "429fd46014dd4354873409741dc3bbd7": {
          "model_module": "@jupyter-widgets/controls",
          "model_name": "FloatProgressModel",
          "model_module_version": "1.5.0",
          "state": {
            "_dom_classes": [],
            "_model_module": "@jupyter-widgets/controls",
            "_model_module_version": "1.5.0",
            "_model_name": "FloatProgressModel",
            "_view_count": null,
            "_view_module": "@jupyter-widgets/controls",
            "_view_module_version": "1.5.0",
            "_view_name": "ProgressView",
            "bar_style": "success",
            "description": "",
            "description_tooltip": null,
            "layout": "IPY_MODEL_b7f2f316e3df44a3b58bb3ec5b7779eb",
            "max": 1,
            "min": 0,
            "orientation": "horizontal",
            "style": "IPY_MODEL_4dc47a2138a94ecf9a9596ebe239b37c",
            "value": 1
          }
        },
        "91f4fe23e5c449e595f93745b6ff5ff9": {
          "model_module": "@jupyter-widgets/controls",
          "model_name": "HTMLModel",
          "model_module_version": "1.5.0",
          "state": {
            "_dom_classes": [],
            "_model_module": "@jupyter-widgets/controls",
            "_model_module_version": "1.5.0",
            "_model_name": "HTMLModel",
            "_view_count": null,
            "_view_module": "@jupyter-widgets/controls",
            "_view_module_version": "1.5.0",
            "_view_name": "HTMLView",
            "description": "",
            "description_tooltip": null,
            "layout": "IPY_MODEL_81e9d8d4d5fe4c929dc3fba62b1687bc",
            "placeholder": "​",
            "style": "IPY_MODEL_23cbe7e4b9c343a6b29a11a5a7a83c33",
            "value": " 1/1 [00:00&lt;00:00, 46.48it/s]"
          }
        },
        "1f282bcda5ef43bea3909e43279ccefa": {
          "model_module": "@jupyter-widgets/base",
          "model_name": "LayoutModel",
          "model_module_version": "1.2.0",
          "state": {
            "_model_module": "@jupyter-widgets/base",
            "_model_module_version": "1.2.0",
            "_model_name": "LayoutModel",
            "_view_count": null,
            "_view_module": "@jupyter-widgets/base",
            "_view_module_version": "1.2.0",
            "_view_name": "LayoutView",
            "align_content": null,
            "align_items": null,
            "align_self": null,
            "border": null,
            "bottom": null,
            "display": null,
            "flex": null,
            "flex_flow": null,
            "grid_area": null,
            "grid_auto_columns": null,
            "grid_auto_flow": null,
            "grid_auto_rows": null,
            "grid_column": null,
            "grid_gap": null,
            "grid_row": null,
            "grid_template_areas": null,
            "grid_template_columns": null,
            "grid_template_rows": null,
            "height": null,
            "justify_content": null,
            "justify_items": null,
            "left": null,
            "margin": null,
            "max_height": null,
            "max_width": null,
            "min_height": null,
            "min_width": null,
            "object_fit": null,
            "object_position": null,
            "order": null,
            "overflow": null,
            "overflow_x": null,
            "overflow_y": null,
            "padding": null,
            "right": null,
            "top": null,
            "visibility": null,
            "width": null
          }
        },
        "fdac0b636cc0461da5d31bc513083d97": {
          "model_module": "@jupyter-widgets/base",
          "model_name": "LayoutModel",
          "model_module_version": "1.2.0",
          "state": {
            "_model_module": "@jupyter-widgets/base",
            "_model_module_version": "1.2.0",
            "_model_name": "LayoutModel",
            "_view_count": null,
            "_view_module": "@jupyter-widgets/base",
            "_view_module_version": "1.2.0",
            "_view_name": "LayoutView",
            "align_content": null,
            "align_items": null,
            "align_self": null,
            "border": null,
            "bottom": null,
            "display": null,
            "flex": null,
            "flex_flow": null,
            "grid_area": null,
            "grid_auto_columns": null,
            "grid_auto_flow": null,
            "grid_auto_rows": null,
            "grid_column": null,
            "grid_gap": null,
            "grid_row": null,
            "grid_template_areas": null,
            "grid_template_columns": null,
            "grid_template_rows": null,
            "height": null,
            "justify_content": null,
            "justify_items": null,
            "left": null,
            "margin": null,
            "max_height": null,
            "max_width": null,
            "min_height": null,
            "min_width": null,
            "object_fit": null,
            "object_position": null,
            "order": null,
            "overflow": null,
            "overflow_x": null,
            "overflow_y": null,
            "padding": null,
            "right": null,
            "top": null,
            "visibility": null,
            "width": null
          }
        },
        "cee3b771c15449c594182902009427c9": {
          "model_module": "@jupyter-widgets/controls",
          "model_name": "DescriptionStyleModel",
          "model_module_version": "1.5.0",
          "state": {
            "_model_module": "@jupyter-widgets/controls",
            "_model_module_version": "1.5.0",
            "_model_name": "DescriptionStyleModel",
            "_view_count": null,
            "_view_module": "@jupyter-widgets/base",
            "_view_module_version": "1.2.0",
            "_view_name": "StyleView",
            "description_width": ""
          }
        },
        "b7f2f316e3df44a3b58bb3ec5b7779eb": {
          "model_module": "@jupyter-widgets/base",
          "model_name": "LayoutModel",
          "model_module_version": "1.2.0",
          "state": {
            "_model_module": "@jupyter-widgets/base",
            "_model_module_version": "1.2.0",
            "_model_name": "LayoutModel",
            "_view_count": null,
            "_view_module": "@jupyter-widgets/base",
            "_view_module_version": "1.2.0",
            "_view_name": "LayoutView",
            "align_content": null,
            "align_items": null,
            "align_self": null,
            "border": null,
            "bottom": null,
            "display": null,
            "flex": null,
            "flex_flow": null,
            "grid_area": null,
            "grid_auto_columns": null,
            "grid_auto_flow": null,
            "grid_auto_rows": null,
            "grid_column": null,
            "grid_gap": null,
            "grid_row": null,
            "grid_template_areas": null,
            "grid_template_columns": null,
            "grid_template_rows": null,
            "height": null,
            "justify_content": null,
            "justify_items": null,
            "left": null,
            "margin": null,
            "max_height": null,
            "max_width": null,
            "min_height": null,
            "min_width": null,
            "object_fit": null,
            "object_position": null,
            "order": null,
            "overflow": null,
            "overflow_x": null,
            "overflow_y": null,
            "padding": null,
            "right": null,
            "top": null,
            "visibility": null,
            "width": null
          }
        },
        "4dc47a2138a94ecf9a9596ebe239b37c": {
          "model_module": "@jupyter-widgets/controls",
          "model_name": "ProgressStyleModel",
          "model_module_version": "1.5.0",
          "state": {
            "_model_module": "@jupyter-widgets/controls",
            "_model_module_version": "1.5.0",
            "_model_name": "ProgressStyleModel",
            "_view_count": null,
            "_view_module": "@jupyter-widgets/base",
            "_view_module_version": "1.2.0",
            "_view_name": "StyleView",
            "bar_color": null,
            "description_width": ""
          }
        },
        "81e9d8d4d5fe4c929dc3fba62b1687bc": {
          "model_module": "@jupyter-widgets/base",
          "model_name": "LayoutModel",
          "model_module_version": "1.2.0",
          "state": {
            "_model_module": "@jupyter-widgets/base",
            "_model_module_version": "1.2.0",
            "_model_name": "LayoutModel",
            "_view_count": null,
            "_view_module": "@jupyter-widgets/base",
            "_view_module_version": "1.2.0",
            "_view_name": "LayoutView",
            "align_content": null,
            "align_items": null,
            "align_self": null,
            "border": null,
            "bottom": null,
            "display": null,
            "flex": null,
            "flex_flow": null,
            "grid_area": null,
            "grid_auto_columns": null,
            "grid_auto_flow": null,
            "grid_auto_rows": null,
            "grid_column": null,
            "grid_gap": null,
            "grid_row": null,
            "grid_template_areas": null,
            "grid_template_columns": null,
            "grid_template_rows": null,
            "height": null,
            "justify_content": null,
            "justify_items": null,
            "left": null,
            "margin": null,
            "max_height": null,
            "max_width": null,
            "min_height": null,
            "min_width": null,
            "object_fit": null,
            "object_position": null,
            "order": null,
            "overflow": null,
            "overflow_x": null,
            "overflow_y": null,
            "padding": null,
            "right": null,
            "top": null,
            "visibility": null,
            "width": null
          }
        },
        "23cbe7e4b9c343a6b29a11a5a7a83c33": {
          "model_module": "@jupyter-widgets/controls",
          "model_name": "DescriptionStyleModel",
          "model_module_version": "1.5.0",
          "state": {
            "_model_module": "@jupyter-widgets/controls",
            "_model_module_version": "1.5.0",
            "_model_name": "DescriptionStyleModel",
            "_view_count": null,
            "_view_module": "@jupyter-widgets/base",
            "_view_module_version": "1.2.0",
            "_view_name": "StyleView",
            "description_width": ""
          }
        },
        "4c5ddfbac0e3407a9856c0962ad74ea3": {
          "model_module": "@jupyter-widgets/controls",
          "model_name": "HBoxModel",
          "model_module_version": "1.5.0",
          "state": {
            "_dom_classes": [],
            "_model_module": "@jupyter-widgets/controls",
            "_model_module_version": "1.5.0",
            "_model_name": "HBoxModel",
            "_view_count": null,
            "_view_module": "@jupyter-widgets/controls",
            "_view_module_version": "1.5.0",
            "_view_name": "HBoxView",
            "box_style": "",
            "children": [
              "IPY_MODEL_32392dfe4d6947c99cc25d1ce199296a",
              "IPY_MODEL_dcb37eb2533c482f8d073c4e64883435",
              "IPY_MODEL_d05ede1c292a4d8da024aec63f1cb3eb"
            ],
            "layout": "IPY_MODEL_c823b18bf09e4d3685be7e6ecd68f233"
          }
        },
        "32392dfe4d6947c99cc25d1ce199296a": {
          "model_module": "@jupyter-widgets/controls",
          "model_name": "HTMLModel",
          "model_module_version": "1.5.0",
          "state": {
            "_dom_classes": [],
            "_model_module": "@jupyter-widgets/controls",
            "_model_module_version": "1.5.0",
            "_model_name": "HTMLModel",
            "_view_count": null,
            "_view_module": "@jupyter-widgets/controls",
            "_view_module_version": "1.5.0",
            "_view_name": "HTMLView",
            "description": "",
            "description_tooltip": null,
            "layout": "IPY_MODEL_c78d9e8fa41e4091884b84cb45afff47",
            "placeholder": "​",
            "style": "IPY_MODEL_d31ce90b9c9e4701b4a625aaca51e62e",
            "value": "Retrieving MaterialsDoc documents: 100%"
          }
        },
        "dcb37eb2533c482f8d073c4e64883435": {
          "model_module": "@jupyter-widgets/controls",
          "model_name": "FloatProgressModel",
          "model_module_version": "1.5.0",
          "state": {
            "_dom_classes": [],
            "_model_module": "@jupyter-widgets/controls",
            "_model_module_version": "1.5.0",
            "_model_name": "FloatProgressModel",
            "_view_count": null,
            "_view_module": "@jupyter-widgets/controls",
            "_view_module_version": "1.5.0",
            "_view_name": "ProgressView",
            "bar_style": "success",
            "description": "",
            "description_tooltip": null,
            "layout": "IPY_MODEL_06a82e3ee6e341189e7c96fde84b7752",
            "max": 1,
            "min": 0,
            "orientation": "horizontal",
            "style": "IPY_MODEL_88f7aef154a84e3aaf8b1904347391ef",
            "value": 1
          }
        },
        "d05ede1c292a4d8da024aec63f1cb3eb": {
          "model_module": "@jupyter-widgets/controls",
          "model_name": "HTMLModel",
          "model_module_version": "1.5.0",
          "state": {
            "_dom_classes": [],
            "_model_module": "@jupyter-widgets/controls",
            "_model_module_version": "1.5.0",
            "_model_name": "HTMLModel",
            "_view_count": null,
            "_view_module": "@jupyter-widgets/controls",
            "_view_module_version": "1.5.0",
            "_view_name": "HTMLView",
            "description": "",
            "description_tooltip": null,
            "layout": "IPY_MODEL_dfaa5de6f4a544179d575789ca1a6c6c",
            "placeholder": "​",
            "style": "IPY_MODEL_32c3b2d5644d437b82ce93e1aa4fcf47",
            "value": " 1/1 [00:00&lt;00:00, 66.96it/s]"
          }
        },
        "c823b18bf09e4d3685be7e6ecd68f233": {
          "model_module": "@jupyter-widgets/base",
          "model_name": "LayoutModel",
          "model_module_version": "1.2.0",
          "state": {
            "_model_module": "@jupyter-widgets/base",
            "_model_module_version": "1.2.0",
            "_model_name": "LayoutModel",
            "_view_count": null,
            "_view_module": "@jupyter-widgets/base",
            "_view_module_version": "1.2.0",
            "_view_name": "LayoutView",
            "align_content": null,
            "align_items": null,
            "align_self": null,
            "border": null,
            "bottom": null,
            "display": null,
            "flex": null,
            "flex_flow": null,
            "grid_area": null,
            "grid_auto_columns": null,
            "grid_auto_flow": null,
            "grid_auto_rows": null,
            "grid_column": null,
            "grid_gap": null,
            "grid_row": null,
            "grid_template_areas": null,
            "grid_template_columns": null,
            "grid_template_rows": null,
            "height": null,
            "justify_content": null,
            "justify_items": null,
            "left": null,
            "margin": null,
            "max_height": null,
            "max_width": null,
            "min_height": null,
            "min_width": null,
            "object_fit": null,
            "object_position": null,
            "order": null,
            "overflow": null,
            "overflow_x": null,
            "overflow_y": null,
            "padding": null,
            "right": null,
            "top": null,
            "visibility": null,
            "width": null
          }
        },
        "c78d9e8fa41e4091884b84cb45afff47": {
          "model_module": "@jupyter-widgets/base",
          "model_name": "LayoutModel",
          "model_module_version": "1.2.0",
          "state": {
            "_model_module": "@jupyter-widgets/base",
            "_model_module_version": "1.2.0",
            "_model_name": "LayoutModel",
            "_view_count": null,
            "_view_module": "@jupyter-widgets/base",
            "_view_module_version": "1.2.0",
            "_view_name": "LayoutView",
            "align_content": null,
            "align_items": null,
            "align_self": null,
            "border": null,
            "bottom": null,
            "display": null,
            "flex": null,
            "flex_flow": null,
            "grid_area": null,
            "grid_auto_columns": null,
            "grid_auto_flow": null,
            "grid_auto_rows": null,
            "grid_column": null,
            "grid_gap": null,
            "grid_row": null,
            "grid_template_areas": null,
            "grid_template_columns": null,
            "grid_template_rows": null,
            "height": null,
            "justify_content": null,
            "justify_items": null,
            "left": null,
            "margin": null,
            "max_height": null,
            "max_width": null,
            "min_height": null,
            "min_width": null,
            "object_fit": null,
            "object_position": null,
            "order": null,
            "overflow": null,
            "overflow_x": null,
            "overflow_y": null,
            "padding": null,
            "right": null,
            "top": null,
            "visibility": null,
            "width": null
          }
        },
        "d31ce90b9c9e4701b4a625aaca51e62e": {
          "model_module": "@jupyter-widgets/controls",
          "model_name": "DescriptionStyleModel",
          "model_module_version": "1.5.0",
          "state": {
            "_model_module": "@jupyter-widgets/controls",
            "_model_module_version": "1.5.0",
            "_model_name": "DescriptionStyleModel",
            "_view_count": null,
            "_view_module": "@jupyter-widgets/base",
            "_view_module_version": "1.2.0",
            "_view_name": "StyleView",
            "description_width": ""
          }
        },
        "06a82e3ee6e341189e7c96fde84b7752": {
          "model_module": "@jupyter-widgets/base",
          "model_name": "LayoutModel",
          "model_module_version": "1.2.0",
          "state": {
            "_model_module": "@jupyter-widgets/base",
            "_model_module_version": "1.2.0",
            "_model_name": "LayoutModel",
            "_view_count": null,
            "_view_module": "@jupyter-widgets/base",
            "_view_module_version": "1.2.0",
            "_view_name": "LayoutView",
            "align_content": null,
            "align_items": null,
            "align_self": null,
            "border": null,
            "bottom": null,
            "display": null,
            "flex": null,
            "flex_flow": null,
            "grid_area": null,
            "grid_auto_columns": null,
            "grid_auto_flow": null,
            "grid_auto_rows": null,
            "grid_column": null,
            "grid_gap": null,
            "grid_row": null,
            "grid_template_areas": null,
            "grid_template_columns": null,
            "grid_template_rows": null,
            "height": null,
            "justify_content": null,
            "justify_items": null,
            "left": null,
            "margin": null,
            "max_height": null,
            "max_width": null,
            "min_height": null,
            "min_width": null,
            "object_fit": null,
            "object_position": null,
            "order": null,
            "overflow": null,
            "overflow_x": null,
            "overflow_y": null,
            "padding": null,
            "right": null,
            "top": null,
            "visibility": null,
            "width": null
          }
        },
        "88f7aef154a84e3aaf8b1904347391ef": {
          "model_module": "@jupyter-widgets/controls",
          "model_name": "ProgressStyleModel",
          "model_module_version": "1.5.0",
          "state": {
            "_model_module": "@jupyter-widgets/controls",
            "_model_module_version": "1.5.0",
            "_model_name": "ProgressStyleModel",
            "_view_count": null,
            "_view_module": "@jupyter-widgets/base",
            "_view_module_version": "1.2.0",
            "_view_name": "StyleView",
            "bar_color": null,
            "description_width": ""
          }
        },
        "dfaa5de6f4a544179d575789ca1a6c6c": {
          "model_module": "@jupyter-widgets/base",
          "model_name": "LayoutModel",
          "model_module_version": "1.2.0",
          "state": {
            "_model_module": "@jupyter-widgets/base",
            "_model_module_version": "1.2.0",
            "_model_name": "LayoutModel",
            "_view_count": null,
            "_view_module": "@jupyter-widgets/base",
            "_view_module_version": "1.2.0",
            "_view_name": "LayoutView",
            "align_content": null,
            "align_items": null,
            "align_self": null,
            "border": null,
            "bottom": null,
            "display": null,
            "flex": null,
            "flex_flow": null,
            "grid_area": null,
            "grid_auto_columns": null,
            "grid_auto_flow": null,
            "grid_auto_rows": null,
            "grid_column": null,
            "grid_gap": null,
            "grid_row": null,
            "grid_template_areas": null,
            "grid_template_columns": null,
            "grid_template_rows": null,
            "height": null,
            "justify_content": null,
            "justify_items": null,
            "left": null,
            "margin": null,
            "max_height": null,
            "max_width": null,
            "min_height": null,
            "min_width": null,
            "object_fit": null,
            "object_position": null,
            "order": null,
            "overflow": null,
            "overflow_x": null,
            "overflow_y": null,
            "padding": null,
            "right": null,
            "top": null,
            "visibility": null,
            "width": null
          }
        },
        "32c3b2d5644d437b82ce93e1aa4fcf47": {
          "model_module": "@jupyter-widgets/controls",
          "model_name": "DescriptionStyleModel",
          "model_module_version": "1.5.0",
          "state": {
            "_model_module": "@jupyter-widgets/controls",
            "_model_module_version": "1.5.0",
            "_model_name": "DescriptionStyleModel",
            "_view_count": null,
            "_view_module": "@jupyter-widgets/base",
            "_view_module_version": "1.2.0",
            "_view_name": "StyleView",
            "description_width": ""
          }
        }
      }
    }
  },
  "nbformat": 4,
  "nbformat_minor": 5
}